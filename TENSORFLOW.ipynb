{
  "nbformat": 4,
  "nbformat_minor": 0,
  "metadata": {
    "colab": {
      "provenance": [],
      "gpuType": "T4"
    },
    "kernelspec": {
      "name": "python3",
      "display_name": "Python 3"
    },
    "language_info": {
      "name": "python"
    },
    "accelerator": "GPU"
  },
  "cells": [
    {
      "cell_type": "code",
      "execution_count": 1,
      "metadata": {
        "colab": {
          "base_uri": "https://localhost:8080/"
        },
        "id": "19DzIK-E4WTs",
        "outputId": "1f4aec4d-b05a-45a9-d786-e655807dfb1a"
      },
      "outputs": [
        {
          "output_type": "stream",
          "name": "stdout",
          "text": [
            "2.12.0\n",
            "2.12.0\n"
          ]
        }
      ],
      "source": [
        "import tensorflow as tf\n",
        "print(tf.__version__)\n",
        "print(tf.keras.__version__)"
      ]
    },
    {
      "cell_type": "code",
      "source": [
        "if tf.test.is_gpu_available():\n",
        "    print('Running on GPU')\n",
        "else:\n",
        "    print('Running on CPU')"
      ],
      "metadata": {
        "colab": {
          "base_uri": "https://localhost:8080/"
        },
        "id": "UnrRx1nl4ck8",
        "outputId": "c493cb32-4baf-47ea-bffd-ca70b36f1bff"
      },
      "execution_count": 2,
      "outputs": [
        {
          "output_type": "stream",
          "name": "stderr",
          "text": [
            "WARNING:tensorflow:From <ipython-input-2-16ea5becd632>:1: is_gpu_available (from tensorflow.python.framework.test_util) is deprecated and will be removed in a future version.\n",
            "Instructions for updating:\n",
            "Use `tf.config.list_physical_devices('GPU')` instead.\n"
          ]
        },
        {
          "output_type": "stream",
          "name": "stdout",
          "text": [
            "Running on GPU\n"
          ]
        }
      ]
    },
    {
      "cell_type": "code",
      "source": [
        "tf.config.list_logical_devices('CPU')"
      ],
      "metadata": {
        "colab": {
          "base_uri": "https://localhost:8080/"
        },
        "id": "xk1k2UW24ust",
        "outputId": "41e25c7a-ef52-4277-88ec-e8ef4bb946d9"
      },
      "execution_count": 3,
      "outputs": [
        {
          "output_type": "execute_result",
          "data": {
            "text/plain": [
              "[LogicalDevice(name='/device:CPU:0', device_type='CPU')]"
            ]
          },
          "metadata": {},
          "execution_count": 3
        }
      ]
    },
    {
      "cell_type": "code",
      "source": [
        "tf.config.list_logical_devices('GPU')"
      ],
      "metadata": {
        "colab": {
          "base_uri": "https://localhost:8080/"
        },
        "id": "IVLByJFg5EP-",
        "outputId": "35cdd4f2-8850-4240-ce29-8e4c4a329e61"
      },
      "execution_count": 4,
      "outputs": [
        {
          "output_type": "execute_result",
          "data": {
            "text/plain": [
              "[LogicalDevice(name='/device:GPU:0', device_type='GPU')]"
            ]
          },
          "metadata": {},
          "execution_count": 4
        }
      ]
    },
    {
      "cell_type": "markdown",
      "source": [
        "**Tensor Constant**"
      ],
      "metadata": {
        "id": "T4XZPB5u5NHl"
      }
    },
    {
      "cell_type": "code",
      "source": [
        "a=tf.constant(42)\n",
        "a"
      ],
      "metadata": {
        "colab": {
          "base_uri": "https://localhost:8080/"
        },
        "id": "zx4veyWm5G-5",
        "outputId": "1813ece2-5c56-4fc8-ea45-484f3c6ae521"
      },
      "execution_count": 7,
      "outputs": [
        {
          "output_type": "execute_result",
          "data": {
            "text/plain": [
              "<tf.Tensor: shape=(), dtype=int32, numpy=42>"
            ]
          },
          "metadata": {},
          "execution_count": 7
        }
      ]
    },
    {
      "cell_type": "code",
      "source": [
        "a.numpy()"
      ],
      "metadata": {
        "colab": {
          "base_uri": "https://localhost:8080/"
        },
        "id": "8vky0fAU5d4X",
        "outputId": "60729584-a8d7-4fa5-e8fd-20abf6d53599"
      },
      "execution_count": 8,
      "outputs": [
        {
          "output_type": "execute_result",
          "data": {
            "text/plain": [
              "42"
            ]
          },
          "metadata": {},
          "execution_count": 8
        }
      ]
    },
    {
      "cell_type": "code",
      "source": [
        "a1=tf.constant(1,dtype=tf.int64)\n",
        "a1"
      ],
      "metadata": {
        "colab": {
          "base_uri": "https://localhost:8080/"
        },
        "id": "RUF9RUjX5mTr",
        "outputId": "374d755b-6c43-45fa-c72e-675a1159b7dd"
      },
      "execution_count": 9,
      "outputs": [
        {
          "output_type": "execute_result",
          "data": {
            "text/plain": [
              "<tf.Tensor: shape=(), dtype=int64, numpy=1>"
            ]
          },
          "metadata": {},
          "execution_count": 9
        }
      ]
    },
    {
      "cell_type": "code",
      "source": [
        "a2=tf.constant([[1,2,3],[2,3,4]])\n",
        "a2"
      ],
      "metadata": {
        "colab": {
          "base_uri": "https://localhost:8080/"
        },
        "id": "OAGhT3Jc5yjX",
        "outputId": "da8d4fbf-f0b6-4571-f7a6-3a6a5e8fa725"
      },
      "execution_count": 12,
      "outputs": [
        {
          "output_type": "execute_result",
          "data": {
            "text/plain": [
              "<tf.Tensor: shape=(2, 3), dtype=int32, numpy=\n",
              "array([[1, 2, 3],\n",
              "       [2, 3, 4]], dtype=int32)>"
            ]
          },
          "metadata": {},
          "execution_count": 12
        }
      ]
    },
    {
      "cell_type": "code",
      "source": [
        "a2.numpy()"
      ],
      "metadata": {
        "colab": {
          "base_uri": "https://localhost:8080/"
        },
        "id": "nR8m0MuM59Bm",
        "outputId": "884c3e84-5491-48f3-f6f8-b476c336a17a"
      },
      "execution_count": 14,
      "outputs": [
        {
          "output_type": "execute_result",
          "data": {
            "text/plain": [
              "array([[1, 2, 3],\n",
              "       [2, 3, 4]], dtype=int32)"
            ]
          },
          "metadata": {},
          "execution_count": 14
        }
      ]
    },
    {
      "cell_type": "code",
      "source": [
        "print('shape:',a2.shape)\n",
        "print(a2.dtype)"
      ],
      "metadata": {
        "colab": {
          "base_uri": "https://localhost:8080/"
        },
        "id": "cF6E9Ncu6LzP",
        "outputId": "e3347bf9-e805-42f4-e26f-a12463b8c5b6"
      },
      "execution_count": 15,
      "outputs": [
        {
          "output_type": "stream",
          "name": "stdout",
          "text": [
            "shape: (2, 3)\n",
            "<dtype: 'int32'>\n"
          ]
        }
      ]
    },
    {
      "cell_type": "markdown",
      "source": [
        "**Commonly used method is to generate constant tf.ones and the tf.zeros like of numpy np.ones & np.zeros**"
      ],
      "metadata": {
        "id": "bdw_73dg6cdx"
      }
    },
    {
      "cell_type": "code",
      "source": [
        "print(tf.ones(shape=(2,2)))"
      ],
      "metadata": {
        "colab": {
          "base_uri": "https://localhost:8080/"
        },
        "id": "Rew4e2cy6T4G",
        "outputId": "2a944633-2183-4aff-d4de-7eae7d2a9887"
      },
      "execution_count": 17,
      "outputs": [
        {
          "output_type": "stream",
          "name": "stdout",
          "text": [
            "tf.Tensor(\n",
            "[[1. 1.]\n",
            " [1. 1.]], shape=(2, 2), dtype=float32)\n"
          ]
        }
      ]
    },
    {
      "cell_type": "code",
      "source": [
        "print(tf.zeros(shape=(2,2)))"
      ],
      "metadata": {
        "colab": {
          "base_uri": "https://localhost:8080/"
        },
        "id": "VUhtNHeh6mgs",
        "outputId": "6025f708-7d38-4350-a3ed-7e7875b10561"
      },
      "execution_count": 18,
      "outputs": [
        {
          "output_type": "stream",
          "name": "stdout",
          "text": [
            "tf.Tensor(\n",
            "[[0. 0.]\n",
            " [0. 0.]], shape=(2, 2), dtype=float32)\n"
          ]
        }
      ]
    },
    {
      "cell_type": "code",
      "source": [
        "import tensorflow as tf\n",
        "\n",
        "x1=tf.constant([[1,2,3],[4,5,6]])\n",
        "x2=tf.constant([[6,5,3],[5,6,8]])\n",
        "\n",
        "result=tf.add(x1,x2)\n",
        "\n",
        "print(result)"
      ],
      "metadata": {
        "colab": {
          "base_uri": "https://localhost:8080/"
        },
        "id": "u9NxOLlw6tgR",
        "outputId": "9dcf1b77-aedc-40a3-fbd7-81863eb94480"
      },
      "execution_count": 19,
      "outputs": [
        {
          "output_type": "stream",
          "name": "stdout",
          "text": [
            "tf.Tensor(\n",
            "[[ 7  7  6]\n",
            " [ 9 11 14]], shape=(2, 3), dtype=int32)\n"
          ]
        }
      ]
    },
    {
      "cell_type": "markdown",
      "source": [
        "**Random constant**"
      ],
      "metadata": {
        "id": "oDoWd0Ap7PbH"
      }
    },
    {
      "cell_type": "code",
      "source": [
        "tf.random.normal(shape=(2,2),mean=0,stddev=1)"
      ],
      "metadata": {
        "colab": {
          "base_uri": "https://localhost:8080/"
        },
        "id": "pfmr8VwN7IO0",
        "outputId": "450ced20-d468-411d-bcda-eca6162bc8f7"
      },
      "execution_count": 21,
      "outputs": [
        {
          "output_type": "execute_result",
          "data": {
            "text/plain": [
              "<tf.Tensor: shape=(2, 2), dtype=float32, numpy=\n",
              "array([[ 1.6096411 , -0.8717185 ],\n",
              "       [ 0.4500014 ,  0.44701487]], dtype=float32)>"
            ]
          },
          "metadata": {},
          "execution_count": 21
        }
      ]
    },
    {
      "cell_type": "code",
      "source": [
        "tf.random.uniform(shape=(2,2),minval=0,maxval=100,dtype=tf.int32)"
      ],
      "metadata": {
        "colab": {
          "base_uri": "https://localhost:8080/"
        },
        "id": "yiSx7whf7fmA",
        "outputId": "8f2b6fac-1074-4c80-cde5-84915f42fd9a"
      },
      "execution_count": 24,
      "outputs": [
        {
          "output_type": "execute_result",
          "data": {
            "text/plain": [
              "<tf.Tensor: shape=(2, 2), dtype=int32, numpy=\n",
              "array([[21, 83],\n",
              "       [16, 77]], dtype=int32)>"
            ]
          },
          "metadata": {},
          "execution_count": 24
        }
      ]
    },
    {
      "cell_type": "code",
      "source": [],
      "metadata": {
        "id": "K5vZ3sdt7zQA"
      },
      "execution_count": null,
      "outputs": []
    },
    {
      "cell_type": "markdown",
      "source": [
        "**Variables**"
      ],
      "metadata": {
        "id": "-P2_DQ0Y79uH"
      }
    },
    {
      "cell_type": "markdown",
      "source": [
        "A variable is a special tensor that is used to store variable values ​​and needs to be initialized with some values"
      ],
      "metadata": {
        "id": "Pu-TDLE48CZj"
      }
    },
    {
      "cell_type": "code",
      "source": [
        "v1=0 #python variable\n",
        "v2=tf.Variable(42)\n",
        "v3=tf.Variable([[1,2,3],[4,5,6],[6,2,1]])\n",
        "v1,v2,v3\n"
      ],
      "metadata": {
        "colab": {
          "base_uri": "https://localhost:8080/"
        },
        "id": "8EkX_JA48JKp",
        "outputId": "4b39a1f5-c53d-4b4f-f6b2-c394553da013"
      },
      "execution_count": 27,
      "outputs": [
        {
          "output_type": "execute_result",
          "data": {
            "text/plain": [
              "(0,\n",
              " <tf.Variable 'Variable:0' shape=() dtype=int32, numpy=42>,\n",
              " <tf.Variable 'Variable:0' shape=(3, 3) dtype=int32, numpy=\n",
              " array([[1, 2, 3],\n",
              "        [4, 5, 6],\n",
              "        [6, 2, 1]], dtype=int32)>)"
            ]
          },
          "metadata": {},
          "execution_count": 27
        }
      ]
    },
    {
      "cell_type": "code",
      "source": [
        "float_var64 = tf.Variable(89, dtype = tf.float64)\n",
        "float_var64.dtype"
      ],
      "metadata": {
        "colab": {
          "base_uri": "https://localhost:8080/"
        },
        "id": "_ljoCZW78eP5",
        "outputId": "03484700-2d9d-4cc4-c921-e2810041796c"
      },
      "execution_count": 28,
      "outputs": [
        {
          "output_type": "execute_result",
          "data": {
            "text/plain": [
              "tf.float64"
            ]
          },
          "metadata": {},
          "execution_count": 28
        }
      ]
    },
    {
      "cell_type": "markdown",
      "source": [
        "`TensorFlow has a large number of built-in datatypes.`\n",
        "\n",
        "datatype | description\n",
        "- | -\n",
        " tf.float16 | 16-bit half-precision floating-point.\n",
        " tf.float32 | 32-bit single-precision floating-point.\n",
        " tf.float64 | 64-bit double-precision floating-point.\n",
        " tf.bfloat16 | 16-bit truncated floating-point.\n",
        " tf.complex64 | 64-bit single-precision complex.\n",
        " tf.complex128 | 128-bit double-precision complex.\n",
        " tf.int8 | 8-bit signed integer.\n",
        " tf.uint8 | 8-bit unsigned integer.\n",
        " tf.uint16 | 16-bit unsigned integer.\n",
        " tf.uint32 | 32-bit unsigned integer.\n",
        " tf.uint64 | 64-bit unsigned integer.\n",
        " tf.int16 | 16-bit signed integer.\n",
        " tf.int32 | 32-bit signed integer.\n",
        " tf.int64 | 64-bit signed integer.\n",
        " tf.bool | Boolean.\n",
        " tf.string | String.\n",
        " tf.qint8 | Quantized 8-bit signed integer.\n",
        " tf.quint8 | Quantized 8-bit unsigned integer.\n",
        " tf.qint16 | Quantized 16-bit signed integer.\n",
        " tf.quint16 | Quantized 16-bit unsigned integer.\n",
        " tf.qint32 | Quantized 32-bit signed integer.\n",
        " tf.resource | Handle to a mutable resource.\n",
        " tf.variant | Values of arbitrary types.\n"
      ],
      "metadata": {
        "id": "Q7dqWC0N82ra"
      }
    },
    {
      "cell_type": "markdown",
      "source": [
        "To reassign a variable, use var.assign()"
      ],
      "metadata": {
        "id": "B_Gx8sjH9DxF"
      }
    },
    {
      "cell_type": "code",
      "source": [
        "var_reassign = tf.Variable(89.)\n",
        "var_reassign"
      ],
      "metadata": {
        "colab": {
          "base_uri": "https://localhost:8080/"
        },
        "id": "4mrbL6mP8zU6",
        "outputId": "90b09a39-77f0-4ae3-ac14-b9d558020060"
      },
      "execution_count": 29,
      "outputs": [
        {
          "output_type": "execute_result",
          "data": {
            "text/plain": [
              "<tf.Variable 'Variable:0' shape=() dtype=float32, numpy=89.0>"
            ]
          },
          "metadata": {},
          "execution_count": 29
        }
      ]
    },
    {
      "cell_type": "code",
      "source": [
        "var_reassign.assign(25.)\n",
        "var_reassign"
      ],
      "metadata": {
        "colab": {
          "base_uri": "https://localhost:8080/"
        },
        "id": "nVGoVxsA9I3N",
        "outputId": "a8b77dbf-4ea9-4a86-ed5b-fc5c628f0044"
      },
      "execution_count": 31,
      "outputs": [
        {
          "output_type": "execute_result",
          "data": {
            "text/plain": [
              "<tf.Variable 'Variable:0' shape=() dtype=float32, numpy=25.0>"
            ]
          },
          "metadata": {},
          "execution_count": 31
        }
      ]
    },
    {
      "cell_type": "code",
      "source": [
        "initial_value = tf.random.normal(shape=(2,2))\n",
        "a = tf.Variable(initial_value)\n",
        "print(a)"
      ],
      "metadata": {
        "colab": {
          "base_uri": "https://localhost:8080/"
        },
        "id": "zOjZEzPH9PVr",
        "outputId": "59280c93-95d1-4b1d-8356-50a6ba511b4d"
      },
      "execution_count": 32,
      "outputs": [
        {
          "output_type": "stream",
          "name": "stdout",
          "text": [
            "<tf.Variable 'Variable:0' shape=(2, 2) dtype=float32, numpy=\n",
            "array([[-0.7593853 ,  1.4741036 ],\n",
            "       [ 0.73372257,  0.66496533]], dtype=float32)>\n"
          ]
        }
      ]
    },
    {
      "cell_type": "markdown",
      "source": [
        "We can assign \"=\" with assign (value), or assign_add (value) with \"+ =\", or assign_sub (value) with \"-=\""
      ],
      "metadata": {
        "id": "43OnMG6c9byN"
      }
    },
    {
      "cell_type": "code",
      "source": [
        "new_value = tf.random.normal(shape=(2, 2))\n",
        "a.assign(new_value)\n",
        "for i in range(2):\n",
        "    for j in range(2):\n",
        "        assert a[i, j] == new_value[i, j]"
      ],
      "metadata": {
        "id": "Qx5n6cg_9XTe"
      },
      "execution_count": 33,
      "outputs": []
    },
    {
      "cell_type": "code",
      "source": [
        "added_value = tf.random.normal(shape=(2,2))\n",
        "a.assign_add(added_value)\n",
        "for i in range(2):\n",
        "    for j in range(2):\n",
        "        assert a[i,j] == new_value[i,j]+added_value[i,j]"
      ],
      "metadata": {
        "id": "UxzteAZw9lIv"
      },
      "execution_count": 34,
      "outputs": []
    },
    {
      "cell_type": "markdown",
      "source": [
        "**Shaping a tensor**"
      ],
      "metadata": {
        "id": "7G4KK7oW90Cq"
      }
    },
    {
      "cell_type": "code",
      "source": [
        "tensor = tf.Variable([ [ [0., 1., 2.], [3., 4., 5.] ], [ [6., 7., 8.], [9., 10., 11.] ] ]) # tensor variable\n",
        "print(tensor.shape)\n",
        "print(tensor)"
      ],
      "metadata": {
        "colab": {
          "base_uri": "https://localhost:8080/"
        },
        "id": "nJO2al8k9vs8",
        "outputId": "4e268342-55e1-42cb-9b16-17e750616349"
      },
      "execution_count": 36,
      "outputs": [
        {
          "output_type": "stream",
          "name": "stdout",
          "text": [
            "(2, 2, 3)\n",
            "<tf.Variable 'Variable:0' shape=(2, 2, 3) dtype=float32, numpy=\n",
            "array([[[ 0.,  1.,  2.],\n",
            "        [ 3.,  4.,  5.]],\n",
            "\n",
            "       [[ 6.,  7.,  8.],\n",
            "        [ 9., 10., 11.]]], dtype=float32)>\n"
          ]
        }
      ]
    },
    {
      "cell_type": "markdown",
      "source": [
        "Tensors may be reshaped and retain the same values, as is often required for constructing neural networks."
      ],
      "metadata": {
        "id": "OblrMAGr-WmV"
      }
    },
    {
      "cell_type": "code",
      "source": [
        "tensor1 = tf.reshape(tensor,[2,6]) # 2 rows 6 cols\n",
        "tensor2 = tf.reshape(tensor,[1,12]) # 1 rows 12 cols\n",
        "tensor1"
      ],
      "metadata": {
        "colab": {
          "base_uri": "https://localhost:8080/"
        },
        "id": "KsjRyhG49_0Z",
        "outputId": "c311c365-736d-4bb6-a5f9-a01941337bed"
      },
      "execution_count": 37,
      "outputs": [
        {
          "output_type": "execute_result",
          "data": {
            "text/plain": [
              "<tf.Tensor: shape=(2, 6), dtype=float32, numpy=\n",
              "array([[ 0.,  1.,  2.,  3.,  4.,  5.],\n",
              "       [ 6.,  7.,  8.,  9., 10., 11.]], dtype=float32)>"
            ]
          },
          "metadata": {},
          "execution_count": 37
        }
      ]
    },
    {
      "cell_type": "code",
      "source": [
        "tensor2 = tf.reshape(tensor,[1,12]) # 1 row 12 columns\n",
        "tensor2"
      ],
      "metadata": {
        "colab": {
          "base_uri": "https://localhost:8080/"
        },
        "id": "2T_oAtMX-ayX",
        "outputId": "7facd7e8-63e1-473e-e225-13b6aa90df6e"
      },
      "execution_count": 38,
      "outputs": [
        {
          "output_type": "execute_result",
          "data": {
            "text/plain": [
              "<tf.Tensor: shape=(1, 12), dtype=float32, numpy=\n",
              "array([[ 0.,  1.,  2.,  3.,  4.,  5.,  6.,  7.,  8.,  9., 10., 11.]],\n",
              "      dtype=float32)>"
            ]
          },
          "metadata": {},
          "execution_count": 38
        }
      ]
    },
    {
      "cell_type": "markdown",
      "source": [
        "**Ranking (dimensions) of a tensor**"
      ],
      "metadata": {
        "id": "yxQZnwnh-hua"
      }
    },
    {
      "cell_type": "markdown",
      "source": [
        "The rank of a tensor is the number of dimensions it has, that is, the number of indices that are required to specify any particular element of that tensor."
      ],
      "metadata": {
        "id": "6gHsD9iM-l_j"
      }
    },
    {
      "cell_type": "code",
      "source": [
        "tf.rank(tensor)"
      ],
      "metadata": {
        "colab": {
          "base_uri": "https://localhost:8080/"
        },
        "id": "22p2_y_a-eS0",
        "outputId": "953d9fea-8529-4469-a8c1-29d02b1ba77a"
      },
      "execution_count": 39,
      "outputs": [
        {
          "output_type": "execute_result",
          "data": {
            "text/plain": [
              "<tf.Tensor: shape=(), dtype=int32, numpy=3>"
            ]
          },
          "metadata": {},
          "execution_count": 39
        }
      ]
    },
    {
      "cell_type": "markdown",
      "source": [
        "(the shape is () because the output here is a scalar value)"
      ],
      "metadata": {
        "id": "7PQu8fbz-w_o"
      }
    },
    {
      "cell_type": "markdown",
      "source": [
        "**Specifying an element of a tensor**"
      ],
      "metadata": {
        "id": "7nsfuDQV-0VS"
      }
    },
    {
      "cell_type": "code",
      "source": [
        "tensor3 = tensor[1, 0, 2] # slice 1, row 0, column 2\n",
        "tensor3"
      ],
      "metadata": {
        "colab": {
          "base_uri": "https://localhost:8080/"
        },
        "id": "mp_Yk2U_-qnj",
        "outputId": "c923d71d-9a76-446e-fc07-9de526944264"
      },
      "execution_count": 40,
      "outputs": [
        {
          "output_type": "execute_result",
          "data": {
            "text/plain": [
              "<tf.Tensor: shape=(), dtype=float32, numpy=8.0>"
            ]
          },
          "metadata": {},
          "execution_count": 40
        }
      ]
    },
    {
      "cell_type": "code",
      "source": [
        "tensor4 = tensor[0, 1, 1 ] # slice 1, row 0, column 2\n",
        "tensor4"
      ],
      "metadata": {
        "colab": {
          "base_uri": "https://localhost:8080/"
        },
        "id": "s1tzYfxY-5sq",
        "outputId": "128ca7cc-0f67-4c46-c124-332c8f202b68"
      },
      "execution_count": 41,
      "outputs": [
        {
          "output_type": "execute_result",
          "data": {
            "text/plain": [
              "<tf.Tensor: shape=(), dtype=float32, numpy=4.0>"
            ]
          },
          "metadata": {},
          "execution_count": 41
        }
      ]
    },
    {
      "cell_type": "markdown",
      "source": [
        "**Casting a tensor to a NumPy/Python variable**"
      ],
      "metadata": {
        "id": "t5sartmv_Vra"
      }
    },
    {
      "cell_type": "code",
      "source": [
        "print(tensor.numpy())"
      ],
      "metadata": {
        "colab": {
          "base_uri": "https://localhost:8080/"
        },
        "id": "PqYtdcAS_SHv",
        "outputId": "b19c67eb-d08b-4a7b-ef2f-c0ced40ada54"
      },
      "execution_count": 42,
      "outputs": [
        {
          "output_type": "stream",
          "name": "stdout",
          "text": [
            "[[[ 0.  1.  2.]\n",
            "  [ 3.  4.  5.]]\n",
            "\n",
            " [[ 6.  7.  8.]\n",
            "  [ 9. 10. 11.]]]\n"
          ]
        }
      ]
    },
    {
      "cell_type": "code",
      "source": [
        "print(tensor[1, 0, 2].numpy())"
      ],
      "metadata": {
        "colab": {
          "base_uri": "https://localhost:8080/"
        },
        "id": "n8LoHc3C_btz",
        "outputId": "01f4b980-c9f0-4c90-a0d4-b498126a7814"
      },
      "execution_count": 43,
      "outputs": [
        {
          "output_type": "stream",
          "name": "stdout",
          "text": [
            "8.0\n"
          ]
        }
      ]
    },
    {
      "cell_type": "markdown",
      "source": [
        "**Finding the size (number of elements) of a tensor**"
      ],
      "metadata": {
        "id": "Ho8sZjcT_ht-"
      }
    },
    {
      "cell_type": "code",
      "source": [
        "tensor_size = tf.size(input=tensor).numpy()\n",
        "tensor_size"
      ],
      "metadata": {
        "colab": {
          "base_uri": "https://localhost:8080/"
        },
        "id": "DZX2PAwO_ePl",
        "outputId": "192ec264-49ab-4e01-b63c-e9926f7aca08"
      },
      "execution_count": 44,
      "outputs": [
        {
          "output_type": "execute_result",
          "data": {
            "text/plain": [
              "12"
            ]
          },
          "metadata": {},
          "execution_count": 44
        }
      ]
    },
    {
      "cell_type": "code",
      "source": [
        "#the datatype of a tensor\n",
        "tensor3.dtype"
      ],
      "metadata": {
        "colab": {
          "base_uri": "https://localhost:8080/"
        },
        "id": "Bb-HMXe8_mhU",
        "outputId": "df50adbd-a72c-42b8-d450-d10930c6fc5a"
      },
      "execution_count": 45,
      "outputs": [
        {
          "output_type": "execute_result",
          "data": {
            "text/plain": [
              "tf.float32"
            ]
          },
          "metadata": {},
          "execution_count": 45
        }
      ]
    },
    {
      "cell_type": "markdown",
      "source": [
        "**Tensorflow mathematical operations**"
      ],
      "metadata": {
        "id": "jMpAPQlU_uiS"
      }
    },
    {
      "cell_type": "markdown",
      "source": [
        "Can be used as numpy for artificial operations. Tensorflow can not execute these operations on the GPU or TPU"
      ],
      "metadata": {
        "id": "rGZb4e5f_xrn"
      }
    },
    {
      "cell_type": "code",
      "source": [
        "a = tf.random.normal(shape=(2,2))\n",
        "b = tf.random.normal(shape=(2,2))\n",
        "c = a+b\n",
        "d = tf.square(c)\n",
        "e = tf.exp(c)\n",
        "print(a)\n",
        "print(b)\n",
        "print(c)\n",
        "print(d)\n",
        "print(e)"
      ],
      "metadata": {
        "colab": {
          "base_uri": "https://localhost:8080/"
        },
        "id": "issJbiMb_rrD",
        "outputId": "d68a628b-ba9a-4aa9-ee9f-ef2710eb9d2a"
      },
      "execution_count": 46,
      "outputs": [
        {
          "output_type": "stream",
          "name": "stdout",
          "text": [
            "tf.Tensor(\n",
            "[[ 1.7020539  -1.0913601 ]\n",
            " [ 0.78206027 -1.2376848 ]], shape=(2, 2), dtype=float32)\n",
            "tf.Tensor(\n",
            "[[-0.5036746   0.74235374]\n",
            " [ 0.9833507  -0.48230132]], shape=(2, 2), dtype=float32)\n",
            "tf.Tensor(\n",
            "[[ 1.1983793  -0.34900635]\n",
            " [ 1.7654109  -1.7199862 ]], shape=(2, 2), dtype=float32)\n",
            "tf.Tensor(\n",
            "[[1.4361129  0.12180544]\n",
            " [3.1166756  2.9583526 ]], shape=(2, 2), dtype=float32)\n",
            "tf.Tensor(\n",
            "[[3.3147404  0.70538867]\n",
            " [5.843973   0.17906862]], shape=(2, 2), dtype=float32)\n"
          ]
        }
      ]
    },
    {
      "cell_type": "code",
      "source": [
        "print(tensor)"
      ],
      "metadata": {
        "colab": {
          "base_uri": "https://localhost:8080/"
        },
        "id": "4NAhmTPvAG9_",
        "outputId": "f81c6683-c695-42d2-caab-b186744f5c44"
      },
      "execution_count": 48,
      "outputs": [
        {
          "output_type": "stream",
          "name": "stdout",
          "text": [
            "<tf.Variable 'Variable:0' shape=(2, 2, 3) dtype=float32, numpy=\n",
            "array([[[ 0.,  1.,  2.],\n",
            "        [ 3.,  4.,  5.]],\n",
            "\n",
            "       [[ 6.,  7.,  8.],\n",
            "        [ 9., 10., 11.]]], dtype=float32)>\n"
          ]
        }
      ]
    },
    {
      "cell_type": "markdown",
      "source": [
        "**Performing element-wise primitive tensor operations**"
      ],
      "metadata": {
        "id": "cvuRSddO_9iI"
      }
    },
    {
      "cell_type": "code",
      "source": [
        "tensor*tensor"
      ],
      "metadata": {
        "colab": {
          "base_uri": "https://localhost:8080/"
        },
        "id": "hbRS9Tm8_6cx",
        "outputId": "cb9f93f1-4eff-4fd7-ba7f-9ebf8123b2f4"
      },
      "execution_count": 47,
      "outputs": [
        {
          "output_type": "execute_result",
          "data": {
            "text/plain": [
              "<tf.Tensor: shape=(2, 2, 3), dtype=float32, numpy=\n",
              "array([[[  0.,   1.,   4.],\n",
              "        [  9.,  16.,  25.]],\n",
              "\n",
              "       [[ 36.,  49.,  64.],\n",
              "        [ 81., 100., 121.]]], dtype=float32)>"
            ]
          },
          "metadata": {},
          "execution_count": 47
        }
      ]
    },
    {
      "cell_type": "markdown",
      "source": [
        "**Broadcasting**"
      ],
      "metadata": {
        "id": "OH-JYNm_ANuQ"
      }
    },
    {
      "cell_type": "markdown",
      "source": [
        "Element-wise tensor operations support broadcasting in the same way that NumPy arrays do.\n",
        "\n",
        "The simplest example is that of multiplying a tensor by a scalar:"
      ],
      "metadata": {
        "id": "M1C2PXe0AQRh"
      }
    },
    {
      "cell_type": "code",
      "source": [
        "tensor4 = tensor*4\n",
        "print(tensor4)"
      ],
      "metadata": {
        "colab": {
          "base_uri": "https://localhost:8080/"
        },
        "id": "RwS71v2YAEJH",
        "outputId": "423e8b0a-8c9f-4758-8715-9e621b0e70b8"
      },
      "execution_count": 49,
      "outputs": [
        {
          "output_type": "stream",
          "name": "stdout",
          "text": [
            "tf.Tensor(\n",
            "[[[ 0.  4.  8.]\n",
            "  [12. 16. 20.]]\n",
            "\n",
            " [[24. 28. 32.]\n",
            "  [36. 40. 44.]]], shape=(2, 2, 3), dtype=float32)\n"
          ]
        }
      ]
    },
    {
      "cell_type": "code",
      "source": [
        "matrix_u = tf.constant([[3,4,3]])\n",
        "matrix_v = tf.constant([[1,2,1]])\n",
        "\n",
        "tf.matmul(matrix_u, tf.transpose(a=matrix_v))"
      ],
      "metadata": {
        "colab": {
          "base_uri": "https://localhost:8080/"
        },
        "id": "JbZ2usCLAVaf",
        "outputId": "3d3d86dd-9a14-4a3b-dd36-8dd143329208"
      },
      "execution_count": 50,
      "outputs": [
        {
          "output_type": "execute_result",
          "data": {
            "text/plain": [
              "<tf.Tensor: shape=(1, 1), dtype=int32, numpy=array([[14]], dtype=int32)>"
            ]
          },
          "metadata": {},
          "execution_count": 50
        }
      ]
    },
    {
      "cell_type": "markdown",
      "source": [
        "**Casting a tensor to another (tensor) datatype**"
      ],
      "metadata": {
        "id": "z_92vvz_AhuM"
      }
    },
    {
      "cell_type": "code",
      "source": [
        "i = tf.cast(tensor1, dtype=tf.int32)\n",
        "i"
      ],
      "metadata": {
        "colab": {
          "base_uri": "https://localhost:8080/"
        },
        "id": "bjvnXaGFAeJf",
        "outputId": "79153c75-f2bb-48f7-d11d-b08bd14e1a1b"
      },
      "execution_count": 51,
      "outputs": [
        {
          "output_type": "execute_result",
          "data": {
            "text/plain": [
              "<tf.Tensor: shape=(2, 6), dtype=int32, numpy=\n",
              "array([[ 0,  1,  2,  3,  4,  5],\n",
              "       [ 6,  7,  8,  9, 10, 11]], dtype=int32)>"
            ]
          },
          "metadata": {},
          "execution_count": 51
        }
      ]
    },
    {
      "cell_type": "markdown",
      "source": [
        "With truncation"
      ],
      "metadata": {
        "id": "P1XqRDuxAqsy"
      }
    },
    {
      "cell_type": "code",
      "source": [
        "j = tf.cast(tf.constant(4.9), dtype=tf.int32)\n",
        "j"
      ],
      "metadata": {
        "colab": {
          "base_uri": "https://localhost:8080/"
        },
        "id": "Wc_MlxWCAmFW",
        "outputId": "31981251-260a-488c-9745-6d1bf8c5c32b"
      },
      "execution_count": 52,
      "outputs": [
        {
          "output_type": "execute_result",
          "data": {
            "text/plain": [
              "<tf.Tensor: shape=(), dtype=int32, numpy=4>"
            ]
          },
          "metadata": {},
          "execution_count": 52
        }
      ]
    },
    {
      "cell_type": "markdown",
      "source": [
        "**Declaring Ragged tensors**"
      ],
      "metadata": {
        "id": "h5952UosA245"
      }
    },
    {
      "cell_type": "markdown",
      "source": [
        "A ragged tensor is a tensor with one or more ragged dimensions. Ragged dimensions are dimensions that have slices that may have different lengths.There are a variety of methods for declaring ragged arrays, the simplest being a constant ragged array."
      ],
      "metadata": {
        "id": "BF6u8irkA5gM"
      }
    },
    {
      "cell_type": "code",
      "source": [
        "ragged =tf.ragged.constant([[5, 2, 6, 1], [], [4, 10, 7], [8], [6,7]])\n",
        "\n",
        "print(ragged)\n",
        "print(ragged[0,:])\n",
        "print(ragged[1,:])\n",
        "print(ragged[2,:])\n",
        "print(ragged[3,:])\n",
        "print(ragged[4,:])"
      ],
      "metadata": {
        "colab": {
          "base_uri": "https://localhost:8080/"
        },
        "id": "p6tHsdL0AtUV",
        "outputId": "146866ad-e3fc-4788-8822-54b3e4d84723"
      },
      "execution_count": 53,
      "outputs": [
        {
          "output_type": "stream",
          "name": "stdout",
          "text": [
            "<tf.RaggedTensor [[5, 2, 6, 1], [], [4, 10, 7], [8], [6, 7]]>\n",
            "tf.Tensor([5 2 6 1], shape=(4,), dtype=int32)\n",
            "tf.Tensor([], shape=(0,), dtype=int32)\n",
            "tf.Tensor([ 4 10  7], shape=(3,), dtype=int32)\n",
            "tf.Tensor([8], shape=(1,), dtype=int32)\n",
            "tf.Tensor([6 7], shape=(2,), dtype=int32)\n"
          ]
        }
      ]
    },
    {
      "cell_type": "markdown",
      "source": [
        "Finding the squared difference between two tensors"
      ],
      "metadata": {
        "id": "gYnoVZbZBL2J"
      }
    },
    {
      "cell_type": "code",
      "source": [
        "varx = [1,3,5,7,11]\n",
        "vary = 5\n",
        "varz = tf.math.squared_difference(varx,vary)\n",
        "varz"
      ],
      "metadata": {
        "colab": {
          "base_uri": "https://localhost:8080/"
        },
        "id": "2WY3rDg3BArk",
        "outputId": "8741f18d-cf90-4297-c2e8-73c9104f49a1"
      },
      "execution_count": 54,
      "outputs": [
        {
          "output_type": "execute_result",
          "data": {
            "text/plain": [
              "<tf.Tensor: shape=(5,), dtype=int32, numpy=array([16,  4,  0,  4, 36], dtype=int32)>"
            ]
          },
          "metadata": {},
          "execution_count": 54
        }
      ]
    },
    {
      "cell_type": "markdown",
      "source": [
        "**Finding the mean**"
      ],
      "metadata": {
        "id": "uj-vaZS4BVAO"
      }
    },
    {
      "cell_type": "markdown",
      "source": [
        "The following is the signature of tf.reduce_mean()."
      ],
      "metadata": {
        "id": "P600Q-JuBX8W"
      }
    },
    {
      "cell_type": "markdown",
      "source": [
        "Note that this is equivalent to np.mean, except that it infers the return datatype from the input tensor, whereas np.mean allows you to specify the output type (defaulting to float64):\n",
        "\n",
        "tf.reduce_mean(input_tensor, axis=None, keepdims=None, name=None)"
      ],
      "metadata": {
        "id": "B3gUbljGBeXA"
      }
    },
    {
      "cell_type": "code",
      "source": [
        "#Defining a constant\n",
        "numbers = tf.constant([[4., 5.], [7., 3.]])"
      ],
      "metadata": {
        "id": "HZ8ayiQzBOzP"
      },
      "execution_count": 55,
      "outputs": []
    },
    {
      "cell_type": "code",
      "source": [
        "tf.reduce_mean(input_tensor=numbers)\n",
        "#( 4. + 5. + 7. + 3.)/4 = 4.75"
      ],
      "metadata": {
        "colab": {
          "base_uri": "https://localhost:8080/"
        },
        "id": "r_pcliINBkNi",
        "outputId": "a154f8c2-4508-4953-d5ae-1eaa0d8004aa"
      },
      "execution_count": 56,
      "outputs": [
        {
          "output_type": "execute_result",
          "data": {
            "text/plain": [
              "<tf.Tensor: shape=(), dtype=float32, numpy=4.75>"
            ]
          },
          "metadata": {},
          "execution_count": 56
        }
      ]
    },
    {
      "cell_type": "markdown",
      "source": [
        "Find the mean across columns (that is, reduce rows) with this:"
      ],
      "metadata": {
        "id": "5jWhXAzeBrWd"
      }
    },
    {
      "cell_type": "code",
      "source": [
        "tf.reduce_mean(input_tensor=numbers, axis=0) # [ (4. + 7. )/2 , (5. + 3.)/2 ] = [5.5, 4.]"
      ],
      "metadata": {
        "colab": {
          "base_uri": "https://localhost:8080/"
        },
        "id": "EtztV4z-Bmce",
        "outputId": "9b06b2aa-9a14-4c57-befa-469288f829a5"
      },
      "execution_count": 57,
      "outputs": [
        {
          "output_type": "execute_result",
          "data": {
            "text/plain": [
              "<tf.Tensor: shape=(2,), dtype=float32, numpy=array([5.5, 4. ], dtype=float32)>"
            ]
          },
          "metadata": {},
          "execution_count": 57
        }
      ]
    },
    {
      "cell_type": "markdown",
      "source": [
        "When keepdims is True, the reduced axis is retained with a length of 1"
      ],
      "metadata": {
        "id": "CCV0ZIJ6B1T-"
      }
    },
    {
      "cell_type": "code",
      "source": [
        "tf.reduce_mean(input_tensor=numbers, axis=0, keepdims=True)"
      ],
      "metadata": {
        "colab": {
          "base_uri": "https://localhost:8080/"
        },
        "id": "OOi0J84sBuQj",
        "outputId": "570e0e8a-4426-4d71-e7c4-47c7004daddf"
      },
      "execution_count": 58,
      "outputs": [
        {
          "output_type": "execute_result",
          "data": {
            "text/plain": [
              "<tf.Tensor: shape=(1, 2), dtype=float32, numpy=array([[5.5, 4. ]], dtype=float32)>"
            ]
          },
          "metadata": {},
          "execution_count": 58
        }
      ]
    },
    {
      "cell_type": "markdown",
      "source": [
        "Find the mean across rows (that is, reduce columns) with this:"
      ],
      "metadata": {
        "id": "mEIkGqxxB-IT"
      }
    },
    {
      "cell_type": "code",
      "source": [
        "tf.reduce_mean(input_tensor=numbers, axis=1) # [ (4. + 5. )/2 , (7. + 3. )/2] = [4.5, 5]"
      ],
      "metadata": {
        "colab": {
          "base_uri": "https://localhost:8080/"
        },
        "id": "bg_7e1ZLB3ij",
        "outputId": "2f03d5c3-cc01-4bdb-cb65-4aee5f35ea74"
      },
      "execution_count": 59,
      "outputs": [
        {
          "output_type": "execute_result",
          "data": {
            "text/plain": [
              "<tf.Tensor: shape=(2,), dtype=float32, numpy=array([4.5, 5. ], dtype=float32)>"
            ]
          },
          "metadata": {},
          "execution_count": 59
        }
      ]
    },
    {
      "cell_type": "markdown",
      "source": [
        "When keepdims is True, the reduced axis is retained with a length of 1:"
      ],
      "metadata": {
        "id": "86lP7f3fCEgR"
      }
    },
    {
      "cell_type": "code",
      "source": [
        "tf.reduce_mean(input_tensor=numbers, axis=1, keepdims=True)"
      ],
      "metadata": {
        "colab": {
          "base_uri": "https://localhost:8080/"
        },
        "id": "_hgm10G-CASR",
        "outputId": "da94ac59-3291-4559-cf21-11db23ab7fea"
      },
      "execution_count": 60,
      "outputs": [
        {
          "output_type": "execute_result",
          "data": {
            "text/plain": [
              "<tf.Tensor: shape=(2, 1), dtype=float32, numpy=\n",
              "array([[4.5],\n",
              "       [5. ]], dtype=float32)>"
            ]
          },
          "metadata": {},
          "execution_count": 60
        }
      ]
    },
    {
      "cell_type": "markdown",
      "source": [
        "**Generating tensors filled with random values**"
      ],
      "metadata": {
        "id": "hgjkPL_yCKd_"
      }
    },
    {
      "cell_type": "markdown",
      "source": [
        "Using tf.random.normal()\n",
        "tf.random.normal() outputs a tensor of the given shape filled with values of the dtype type from a normal distribution.\n",
        "\n",
        "The required signature is as follows:\n",
        "\n",
        "tf. random.normal(shape, mean = 0, stddev =2, dtype=tf.float32, seed=None, name=None)"
      ],
      "metadata": {
        "id": "-OUTWLmHCM9n"
      }
    },
    {
      "cell_type": "code",
      "source": [
        "tf.random.normal(shape = (3,2), mean=10, stddev=2, dtype=tf.float32, seed=None, name=None)\n",
        "ran = tf.random.normal(shape = (3,2), mean=10.0, stddev=2.0)\n",
        "print(ran)"
      ],
      "metadata": {
        "colab": {
          "base_uri": "https://localhost:8080/"
        },
        "id": "c9mUlfXmCGlV",
        "outputId": "8f0c7209-df37-4995-ef10-0d5052f4753c"
      },
      "execution_count": 61,
      "outputs": [
        {
          "output_type": "stream",
          "name": "stdout",
          "text": [
            "tf.Tensor(\n",
            "[[ 4.9285784 11.715346 ]\n",
            " [10.599101   9.935163 ]\n",
            " [ 9.653803   8.495513 ]], shape=(3, 2), dtype=float32)\n"
          ]
        }
      ]
    },
    {
      "cell_type": "markdown",
      "source": [
        "Using tf.random.uniform()\n",
        "The required signature is this:\n",
        "\n",
        "tf.random.uniform(shape, minval = 0, maxval= None, dtype=tf.float32, seed=None, name=None)"
      ],
      "metadata": {
        "id": "6eDZQJ28CXOT"
      }
    },
    {
      "cell_type": "code",
      "source": [
        "tf.random.uniform(shape = (2,4), minval=0, maxval=None, dtype=tf.float32, seed=None, name=None)"
      ],
      "metadata": {
        "colab": {
          "base_uri": "https://localhost:8080/"
        },
        "id": "7BIYEXrXCTzs",
        "outputId": "277cc6be-8028-4804-840b-4ed8a3a763fe"
      },
      "execution_count": 62,
      "outputs": [
        {
          "output_type": "execute_result",
          "data": {
            "text/plain": [
              "<tf.Tensor: shape=(2, 4), dtype=float32, numpy=\n",
              "array([[0.27334988, 0.35345602, 0.6194047 , 0.9910294 ],\n",
              "       [0.19613492, 0.7286948 , 0.48068154, 0.04687417]], dtype=float32)>"
            ]
          },
          "metadata": {},
          "execution_count": 62
        }
      ]
    },
    {
      "cell_type": "code",
      "source": [
        "tf.random.set_seed(11)\n",
        "ran1 = tf.random.uniform(shape = (2,2), maxval=10, dtype = tf.int32)\n",
        "ran2 = tf.random.uniform(shape = (2,2), maxval=10, dtype = tf.int32)\n",
        "print(ran1) #Call 1\n",
        "print(ran2)"
      ],
      "metadata": {
        "colab": {
          "base_uri": "https://localhost:8080/"
        },
        "id": "UmPmCCZnCaf3",
        "outputId": "410fb76c-c5a7-48cd-bb42-8a23bd6a129c"
      },
      "execution_count": 63,
      "outputs": [
        {
          "output_type": "stream",
          "name": "stdout",
          "text": [
            "tf.Tensor(\n",
            "[[4 6]\n",
            " [5 2]], shape=(2, 2), dtype=int32)\n",
            "tf.Tensor(\n",
            "[[9 7]\n",
            " [9 4]], shape=(2, 2), dtype=int32)\n"
          ]
        }
      ]
    },
    {
      "cell_type": "code",
      "source": [
        "tf.random.set_seed(11) #same seed\n",
        "ran1 = tf.random.uniform(shape = (2,2), maxval=10, dtype = tf.int32)\n",
        "ran2 = tf.random.uniform(shape = (2,2), maxval=10, dtype = tf.int32)\n",
        "print(ran1) #Call 2\n",
        "print(ran2)"
      ],
      "metadata": {
        "colab": {
          "base_uri": "https://localhost:8080/"
        },
        "id": "ceg0IqflCdmr",
        "outputId": "8037e76e-85b5-46a6-8282-ff80d24a2774"
      },
      "execution_count": 64,
      "outputs": [
        {
          "output_type": "stream",
          "name": "stdout",
          "text": [
            "tf.Tensor(\n",
            "[[4 6]\n",
            " [5 2]], shape=(2, 2), dtype=int32)\n",
            "tf.Tensor(\n",
            "[[9 7]\n",
            " [9 4]], shape=(2, 2), dtype=int32)\n"
          ]
        }
      ]
    },
    {
      "cell_type": "markdown",
      "source": [
        "**Practical example of Random values using Dices**"
      ],
      "metadata": {
        "id": "PdQoXnF2Cnuq"
      }
    },
    {
      "cell_type": "code",
      "source": [
        "dice1 = tf.Variable(tf.random.uniform([10, 1], minval=1, maxval=7, dtype=tf.int32))\n",
        "dice2 = tf.Variable(tf.random.uniform([10, 1], minval=1, maxval=7, dtype=tf.int32))\n",
        "# We may add dice1 and dice2 since they share the same shape and size.\n",
        "dice_sum = dice1 + dice2\n",
        "# We've got three separate 10x1 matrices. To produce a single\n",
        "# 10x3 matrix, we'll concatenate them along dimension 1.\n",
        "resulting_matrix = tf.concat(values=[dice1, dice2, dice_sum], axis=1)\n",
        "print(resulting_matrix)"
      ],
      "metadata": {
        "colab": {
          "base_uri": "https://localhost:8080/"
        },
        "id": "N2Yg_hHyCh5O",
        "outputId": "29cc27fd-c9fc-4308-e67f-4a72229dbf9a"
      },
      "execution_count": 65,
      "outputs": [
        {
          "output_type": "stream",
          "name": "stdout",
          "text": [
            "tf.Tensor(\n",
            "[[ 5  5 10]\n",
            " [ 4  3  7]\n",
            " [ 5  3  8]\n",
            " [ 3  3  6]\n",
            " [ 1  4  5]\n",
            " [ 4  1  5]\n",
            " [ 5  1  6]\n",
            " [ 6  4 10]\n",
            " [ 3  3  6]\n",
            " [ 2  3  5]], shape=(10, 3), dtype=int32)\n"
          ]
        }
      ]
    },
    {
      "cell_type": "markdown",
      "source": [
        "**Finding the indices of the largest and smallest element**"
      ],
      "metadata": {
        "id": "BpBuGxKDCzQM"
      }
    },
    {
      "cell_type": "markdown",
      "source": [
        "The signatures of the functions are as follows:\n",
        "\n",
        "tf.argmax(input, axis=None, name=None, output_type=tf.int64 )\n",
        "\n",
        "tf.argmin(input, axis=None, name=None, output_type=tf.int64 )"
      ],
      "metadata": {
        "id": "fdlJguRLC2xZ"
      }
    },
    {
      "cell_type": "code",
      "source": [
        "# 1-D tensor\n",
        "t5 = tf.constant([2, 11, 5, 42, 7, 19, -6, -11, 29])\n",
        "print(t5)\n",
        "\n",
        "\n",
        "i = tf.argmax(input=t5)\n",
        "print('index of max; ', i)\n",
        "print('Max element: ',t5[i].numpy())\n",
        "\n",
        "\n",
        "i = tf.argmin(input=t5,axis=0).numpy()\n",
        "print('index of min: ', i)\n",
        "print('Min element: ',t5[i].numpy())\n",
        "\n",
        "\n",
        "t6 = tf.reshape(t5, [3,3])\n",
        "print(t6)\n",
        "\n",
        "\n",
        "i = tf.argmax(input=t6,axis=0).numpy() # max arg down rows\n",
        "print('indices of max down rows; ', i)\n",
        "\n",
        "i = tf.argmin(input=t6,axis=0).numpy() # min arg down rows\n",
        "print('indices of min down rows ; ',i)\n",
        "print(t6)\n",
        "\n",
        "i = tf.argmax(input=t6,axis=1).numpy() # max arg across cols\n",
        "print('indices of max across cols: ',i)\n",
        "\n",
        "i = tf.argmin(input=t6,axis=1).numpy() # min arg across cols\n",
        "print('indices of min across cols: ',i)\n"
      ],
      "metadata": {
        "colab": {
          "base_uri": "https://localhost:8080/"
        },
        "id": "7Drd4nNkCtiX",
        "outputId": "4ae1f21b-5b05-421e-f544-3f016b6337c0"
      },
      "execution_count": 66,
      "outputs": [
        {
          "output_type": "stream",
          "name": "stdout",
          "text": [
            "tf.Tensor([  2  11   5  42   7  19  -6 -11  29], shape=(9,), dtype=int32)\n",
            "index of max;  tf.Tensor(3, shape=(), dtype=int64)\n",
            "Max element:  42\n",
            "index of min:  7\n",
            "Min element:  -11\n",
            "tf.Tensor(\n",
            "[[  2  11   5]\n",
            " [ 42   7  19]\n",
            " [ -6 -11  29]], shape=(3, 3), dtype=int32)\n",
            "indices of max down rows;  [1 0 2]\n",
            "indices of min down rows ;  [2 2 0]\n",
            "tf.Tensor(\n",
            "[[  2  11   5]\n",
            " [ 42   7  19]\n",
            " [ -6 -11  29]], shape=(3, 3), dtype=int32)\n",
            "indices of max across cols:  [1 0 2]\n",
            "indices of min across cols:  [0 1 1]\n"
          ]
        }
      ]
    },
    {
      "cell_type": "code",
      "source": [
        "variable = tf.Variable([[1,3,5,7],[11,13,17,19]])\n",
        "checkpoint= tf.train.Checkpoint(var=variable)\n",
        "save_path = checkpoint.save('./vars')\n",
        "variable.assign([[0,0,0,0],[0,0,0,0]])\n",
        "variable\n",
        "checkpoint.restore(save_path)\n",
        "print(variable)"
      ],
      "metadata": {
        "colab": {
          "base_uri": "https://localhost:8080/"
        },
        "id": "pyVfeisKC7Uz",
        "outputId": "f2a83a6c-f11d-4981-9b42-63a3eafc63d9"
      },
      "execution_count": 67,
      "outputs": [
        {
          "output_type": "stream",
          "name": "stdout",
          "text": [
            "<tf.Variable 'Variable:0' shape=(2, 4) dtype=int32, numpy=\n",
            "array([[ 1,  3,  5,  7],\n",
            "       [11, 13, 17, 19]], dtype=int32)>\n"
          ]
        }
      ]
    },
    {
      "cell_type": "markdown",
      "source": [
        "**Using tf.function**"
      ],
      "metadata": {
        "id": "-7xOmbh4DMcp"
      }
    },
    {
      "cell_type": "markdown",
      "source": [
        "tf.function is a function that will take a Python function and return a TensorFlow graph. The advantage of this is that graphs can apply optimizations and exploit parallelism in the Python function (func). tf.function is new to TensorFlow 2."
      ],
      "metadata": {
        "id": "JCv6-NOvDO8A"
      }
    },
    {
      "cell_type": "markdown",
      "source": [
        "tf.function( func=None, input_signature=None, autograph=True, experimental_autograph_options=None )"
      ],
      "metadata": {
        "id": "oSLvYibIDW60"
      }
    },
    {
      "cell_type": "code",
      "source": [
        "def f1(x, y):\n",
        "    return tf.reduce_mean(input_tensor=tf.multiply(x ** 2, 5) + y**2)\n",
        "\n",
        "f2 = tf.function(f1)\n",
        "x = tf.constant([4., -5.])\n",
        "y = tf.constant([2., 3.])\n",
        "\n",
        "# f1 and f2 return the same value, but f2 executes as a TensorFlow graph\n",
        "assert f1(x,y).numpy() == f2(x,y).numpy()\n",
        "#The assert passes, so there is no output"
      ],
      "metadata": {
        "id": "PgPv2GhUDGDL"
      },
      "execution_count": 68,
      "outputs": []
    },
    {
      "cell_type": "code",
      "source": [
        "a = tf.random.normal(shape=(2,2))\n",
        "b = tf.random.normal(shape=(2,2))\n",
        "\n",
        "with tf.GradientTape() as tape:\n",
        "    tape.watch(a)\n",
        "    c = tf.sqrt(tf.square(a)+tf.square(b))\n",
        "    dc_da = tape.gradient(c,a)\n",
        "    print(dc_da)"
      ],
      "metadata": {
        "colab": {
          "base_uri": "https://localhost:8080/"
        },
        "id": "oHpjhdANDbZc",
        "outputId": "ab18ec9f-3349-45c2-9403-b36c738d68a7"
      },
      "execution_count": 69,
      "outputs": [
        {
          "output_type": "stream",
          "name": "stdout",
          "text": [
            "tf.Tensor(\n",
            "[[-0.469929    0.89920384]\n",
            " [-0.66446555 -0.7976701 ]], shape=(2, 2), dtype=float32)\n"
          ]
        }
      ]
    },
    {
      "cell_type": "code",
      "source": [
        "a = tf.Variable(a)\n",
        "with tf.GradientTape() as tape:\n",
        "    c = tf.sqrt(tf.square(a)+tf.square(b))\n",
        "    dc_da = tape.gradient(c,a)\n",
        "    print(dc_da)"
      ],
      "metadata": {
        "colab": {
          "base_uri": "https://localhost:8080/"
        },
        "id": "IJSO0KS6Djf9",
        "outputId": "9ca86bb0-b373-4dbd-84da-839a0c1482bd"
      },
      "execution_count": 70,
      "outputs": [
        {
          "output_type": "stream",
          "name": "stdout",
          "text": [
            "tf.Tensor(\n",
            "[[-0.469929    0.89920384]\n",
            " [-0.66446555 -0.7976701 ]], shape=(2, 2), dtype=float32)\n"
          ]
        }
      ]
    },
    {
      "cell_type": "code",
      "source": [
        "with tf.GradientTape() as outer_tape:\n",
        "    with tf.GradientTape() as tape:\n",
        "        c = tf.sqrt(tf.square(a)+tf.square(b))\n",
        "        dc_da = tape.gradient(c,a)\n",
        "    d2c_d2a = outer_tape.gradient(dc_da,a)\n",
        "    print(d2c_d2a)"
      ],
      "metadata": {
        "colab": {
          "base_uri": "https://localhost:8080/"
        },
        "id": "Mv-0BE3ODlX8",
        "outputId": "1a43fed6-aff4-4fcb-8909-2126cd1fc949"
      },
      "execution_count": 71,
      "outputs": [
        {
          "output_type": "stream",
          "name": "stdout",
          "text": [
            "tf.Tensor(\n",
            "[[0.4264985  0.6867533 ]\n",
            " [0.44663432 0.50159544]], shape=(2, 2), dtype=float32)\n"
          ]
        }
      ]
    },
    {
      "cell_type": "code",
      "source": [],
      "metadata": {
        "id": "ZHlcoOZMDrdk"
      },
      "execution_count": null,
      "outputs": []
    }
  ]
}